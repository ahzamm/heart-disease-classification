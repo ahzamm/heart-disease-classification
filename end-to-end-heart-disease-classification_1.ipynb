{
	"cells": [
		{
			"cell_type": "code",
			"execution_count": 3,
			"id": "b76de2f3",
			"metadata": {},
			"outputs": [],
			"source": [
				"import pandas as pd\n",
				"import numpy as np\n",
				"import matplotlib.pyplot as plt\n",
				"import seaborn as sns\n",
				"\n",
				"%matplotlib inline\n",
				"\n",
				"from sklearn.linear_model import LogisticRegression\n",
				"from sklearn.neighbors import KNeighborsClassifier\n",
				"from sklearn.ensemble import RandomForestClassifier\n",
				"\n",
				"from sklearn.model_selection import train_test_split, cross_val_score\n",
				"from sklearn.model_selection import RandomizedSearchCV, GridSearchCV\n",
				"from sklearn.metrics import confusion_matrix, classification_report\n",
				"from sklearn.metrics import precision_score, recall_score, f1_score\n",
				"from sklearn.metrics import plot_roc_curve"
			]
		},
		{
			"cell_type": "markdown",
			"id": "6e499454",
			"metadata": {},
			"source": [
				"### Load Data"
			]
		},
		{
			"attachments": {},
			"cell_type": "markdown",
			"id": "20744a53",
			"metadata": {},
			"source": [
				"This code block uses the **pandas** library to read in a CSV file named \"heart-disease.csv\" and store it in a DataFrame object called df. The **.isna()** method is then used to check for missing values in the data and the **.sum()** method is used to count the number of missing values for each column. Finally, the **.shape**attribute is used to determine the number of rows and columns in the DataFrame.\n",
				"\n",
				"The **df.isna().sum()** line of code is useful in checking the completeness of the data, as missing values can affect the performance of machine learning models. The **df.shape** line of code is useful in understanding the size of the data and ensuring that it has been read in correctly."
			]
		},
		{
			"cell_type": "code",
			"execution_count": 4,
			"id": "fca45503",
			"metadata": {},
			"outputs": [
				{
					"data": {
						"text/plain": [
							"(303, 14)"
						]
					},
					"execution_count": 4,
					"metadata": {},
					"output_type": "execute_result"
				}
			],
			"source": [
				"df=pd.read_csv(\"heart-disease.csv\")\n",
				"df.isna().sum()\n",
				"df.shape"
			]
		},
		{
			"attachments": {},
			"cell_type": "markdown",
			"id": "14bbf5d7",
			"metadata": {},
			"source": [
				"This line of code is used to count the number of instances for each class in the \"target\" column of the **df** DataFrame. The **df[\"target\"]** syntax is used to select the \"target\" column from the DataFrame, and the **.value_counts()** method is used to count the number of instances for each unique value in that column.\n",
				"\n",
				"The result of this line of code will give us a sense of the balance (or imbalance) of the classes in the \"target\" column, which can be important for understanding the nature of the problem we are trying to solve and for determining appropriate evaluation metrics for our model."
			]
		},
		{
			"cell_type": "code",
			"execution_count": 27,
			"id": "fddb2c0f",
			"metadata": {},
			"outputs": [
				{
					"data": {
						"text/plain": [
							"1    165\n",
							"0    138\n",
							"Name: target, dtype: int64"
						]
					},
					"execution_count": 27,
					"metadata": {},
					"output_type": "execute_result"
				}
			],
			"source": [
				"df[\"target\"].value_counts()"
			]
		},
		{
			"attachments": {},
			"cell_type": "markdown",
			"id": "1f43dee0",
			"metadata": {},
			"source": [
				"This line of code builds on the previous line by plotting the count of instances for each class in the \"target\" column. The **.plot()** method is used to create the plot and the **kind** argument is set to \"bar\" to specify that a bar plot should be created.\n",
				"\n",
				"This line of code provides a visual representation of the class distribution, which can be useful in understanding the balance (or imbalance) of the classes in the \"target\" column. In cases where the classes are imbalanced, it may be necessary to use specific techniques, such as oversampling or undersampling, to handle this imbalance and improve the performance of the model."
			]
		},
		{
			"cell_type": "code",
			"execution_count": 28,
			"id": "5d335897",
			"metadata": {},
			"outputs": [
				{
					"data": {
						"text/plain": [
							"<AxesSubplot:>"
						]
					},
					"execution_count": 28,
					"metadata": {},
					"output_type": "execute_result"
				},
				{
					"data": {
						"image/png": "[encoded data removed]",
						"text/plain": [
							"<Figure size 432x288 with 1 Axes>"
						]
					},
					"metadata": {
						"needs_background": "light"
					},
					"output_type": "display_data"
				}
			],
			"source": [
				"df[\"target\"].value_counts().plot(kind=\"bar\")"
			]
		},
		{
			"attachments": {},
			"cell_type": "markdown",
			"id": "7ed34d1e",
			"metadata": {},
			"source": [
				"This line of code uses the **.info()** method to provide a summary of the information about the **df** DataFrame, including:\n",
				"\n",
				"- The number of rows and columns in the DataFrame.\n",
				"- The data types of each column.\n",
				"- The number of non-null values in each column.\n",
				"- The memory usage of the DataFrame.\n",
				"\n",
				"This information is useful in understanding the structure of the data and ensuring that it has been read in correctly. For example, if the data type of a column is not what we expect, we may need to perform data type conversions to ensure that the data is correctly formatted for analysis and modeling. Additionally, the number of non-null values in each column can help identify any missing values that need to be addressed."
			]
		},
		{
			"cell_type": "code",
			"execution_count": 29,
			"id": "22007be6",
			"metadata": {},
			"outputs": [
				{
					"name": "stdout",
					"output_type": "stream",
					"text": [
						"<class 'pandas.core.frame.DataFrame'>\n",
						"RangeIndex: 303 entries, 0 to 302\n",
						"Data columns (total 14 columns):\n",
						" #   Column    Non-Null Count  Dtype  \n",
						"---  ------    --------------  -----  \n",
						" 0   age       303 non-null    int64  \n",
						" 1   sex       303 non-null    int64  \n",
						" 2   cp        303 non-null    int64  \n",
						" 3   trestbps  303 non-null    int64  \n",
						" 4   chol      303 non-null    int64  \n",
						" 5   fbs       303 non-null    int64  \n",
						" 6   restecg   303 non-null    int64  \n",
						" 7   thalach   303 non-null    int64  \n",
						" 8   exang     303 non-null    int64  \n",
						" 9   oldpeak   303 non-null    float64\n",
						" 10  slope     303 non-null    int64  \n",
						" 11  ca        303 non-null    int64  \n",
						" 12  thal      303 non-null    int64  \n",
						" 13  target    303 non-null    int64  \n",
						"dtypes: float64(1), int64(13)\n",
						"memory usage: 33.3 KB\n"
					]
				}
			],
			"source": [
				"df.info()"
			]
		},
		{
			"attachments": {},
			"cell_type": "markdown",
			"id": "c15e8915",
			"metadata": {},
			"source": [
				"This line of code uses the **.describe()** method to generate summary statistics for the numerical columns in the **df** DataFrame. The summary statistics include:\n",
				"\n",
				"- The count of the number of non-null values.\n",
				"- The mean, or average, value of the column.\n",
				"- The standard deviation of the values in the column.\n",
				"- The minimum, 25th percentile (Q1), 50th percentile (median), 75th percentile (Q3), and maximum values of the column.\n",
				"\n",
				"These summary statistics can provide a quick and easy way to get a sense of the central tendency, spread, and range of the numerical data in the DataFrame. Understanding these statistics can be useful in detecting any outliers or anomalies in the data, as well as in selecting appropriate feature scaling methods for our data."
			]
		},
		{
			"cell_type": "code",
			"execution_count": 33,
			"id": "f6b8f76f",
			"metadata": {},
			"outputs": [
				{
					"data": {
						"text/html": [
							"<div>\n",
							"<style scoped>\n",
							"    .dataframe tbody tr th:only-of-type {\n",
							"        vertical-align: middle;\n",
							"    }\n",
							"\n",
							"    .dataframe tbody tr th {\n",
							"        vertical-align: top;\n",
							"    }\n",
							"\n",
							"    .dataframe thead th {\n",
							"        text-align: right;\n",
							"    }\n",
							"</style>\n",
							"<table border=\"1\" class=\"dataframe\">\n",
							"  <thead>\n",
							"    <tr style=\"text-align: right;\">\n",
							"      <th></th>\n",
							"      <th>age</th>\n",
							"      <th>sex</th>\n",
							"      <th>cp</th>\n",
							"      <th>trestbps</th>\n",
							"      <th>chol</th>\n",
							"      <th>fbs</th>\n",
							"      <th>restecg</th>\n",
							"      <th>thalach</th>\n",
							"      <th>exang</th>\n",
							"      <th>oldpeak</th>\n",
							"      <th>slope</th>\n",
							"      <th>ca</th>\n",
							"      <th>thal</th>\n",
							"      <th>target</th>\n",
							"    </tr>\n",
							"  </thead>\n",
							"  <tbody>\n",
							"    <tr>\n",
							"      <th>count</th>\n",
							"      <td>303.000000</td>\n",
							"      <td>303.000000</td>\n",
							"      <td>303.000000</td>\n",
							"      <td>303.000000</td>\n",
							"      <td>303.000000</td>\n",
							"      <td>303.000000</td>\n",
							"      <td>303.000000</td>\n",
							"      <td>303.000000</td>\n",
							"      <td>303.000000</td>\n",
							"      <td>303.000000</td>\n",
							"      <td>303.000000</td>\n",
							"      <td>303.000000</td>\n",
							"      <td>303.000000</td>\n",
							"      <td>303.000000</td>\n",
							"    </tr>\n",
							"    <tr>\n",
							"      <th>mean</th>\n",
							"      <td>54.366337</td>\n",
							"      <td>0.683168</td>\n",
							"      <td>0.966997</td>\n",
							"      <td>131.623762</td>\n",
							"      <td>246.264026</td>\n",
							"      <td>0.148515</td>\n",
							"      <td>0.528053</td>\n",
							"      <td>149.646865</td>\n",
							"      <td>0.326733</td>\n",
							"      <td>1.039604</td>\n",
							"      <td>1.399340</td>\n",
							"      <td>0.729373</td>\n",
							"      <td>2.313531</td>\n",
							"      <td>0.544554</td>\n",
							"    </tr>\n",
							"    <tr>\n",
							"      <th>std</th>\n",
							"      <td>9.082101</td>\n",
							"      <td>0.466011</td>\n",
							"      <td>1.032052</td>\n",
							"      <td>17.538143</td>\n",
							"      <td>51.830751</td>\n",
							"      <td>0.356198</td>\n",
							"      <td>0.525860</td>\n",
							"      <td>22.905161</td>\n",
							"      <td>0.469794</td>\n",
							"      <td>1.161075</td>\n",
							"      <td>0.616226</td>\n",
							"      <td>1.022606</td>\n",
							"      <td>0.612277</td>\n",
							"      <td>0.498835</td>\n",
							"    </tr>\n",
							"    <tr>\n",
							"      <th>min</th>\n",
							"      <td>29.000000</td>\n",
							"      <td>0.000000</td>\n",
							"      <td>0.000000</td>\n",
							"      <td>94.000000</td>\n",
							"      <td>126.000000</td>\n",
							"      <td>0.000000</td>\n",
							"      <td>0.000000</td>\n",
							"      <td>71.000000</td>\n",
							"      <td>0.000000</td>\n",
							"      <td>0.000000</td>\n",
							"      <td>0.000000</td>\n",
							"      <td>0.000000</td>\n",
							"      <td>0.000000</td>\n",
							"      <td>0.000000</td>\n",
							"    </tr>\n",
							"    <tr>\n",
							"      <th>25%</th>\n",
							"      <td>47.500000</td>\n",
							"      <td>0.000000</td>\n",
							"      <td>0.000000</td>\n",
							"      <td>120.000000</td>\n",
							"      <td>211.000000</td>\n",
							"      <td>0.000000</td>\n",
							"      <td>0.000000</td>\n",
							"      <td>133.500000</td>\n",
							"      <td>0.000000</td>\n",
							"      <td>0.000000</td>\n",
							"      <td>1.000000</td>\n",
							"      <td>0.000000</td>\n",
							"      <td>2.000000</td>\n",
							"      <td>0.000000</td>\n",
							"    </tr>\n",
							"    <tr>\n",
							"      <th>50%</th>\n",
							"      <td>55.000000</td>\n",
							"      <td>1.000000</td>\n",
							"      <td>1.000000</td>\n",
							"      <td>130.000000</td>\n",
							"      <td>240.000000</td>\n",
							"      <td>0.000000</td>\n",
							"      <td>1.000000</td>\n",
							"      <td>153.000000</td>\n",
							"      <td>0.000000</td>\n",
							"      <td>0.800000</td>\n",
							"      <td>1.000000</td>\n",
							"      <td>0.000000</td>\n",
							"      <td>2.000000</td>\n",
							"      <td>1.000000</td>\n",
							"    </tr>\n",
							"    <tr>\n",
							"      <th>75%</th>\n",
							"      <td>61.000000</td>\n",
							"      <td>1.000000</td>\n",
							"      <td>2.000000</td>\n",
							"      <td>140.000000</td>\n",
							"      <td>274.500000</td>\n",
							"      <td>0.000000</td>\n",
							"      <td>1.000000</td>\n",
							"      <td>166.000000</td>\n",
							"      <td>1.000000</td>\n",
							"      <td>1.600000</td>\n",
							"      <td>2.000000</td>\n",
							"      <td>1.000000</td>\n",
							"      <td>3.000000</td>\n",
							"      <td>1.000000</td>\n",
							"    </tr>\n",
							"    <tr>\n",
							"      <th>max</th>\n",
							"      <td>77.000000</td>\n",
							"      <td>1.000000</td>\n",
							"      <td>3.000000</td>\n",
							"      <td>200.000000</td>\n",
							"      <td>564.000000</td>\n",
							"      <td>1.000000</td>\n",
							"      <td>2.000000</td>\n",
							"      <td>202.000000</td>\n",
							"      <td>1.000000</td>\n",
							"      <td>6.200000</td>\n",
							"      <td>2.000000</td>\n",
							"      <td>4.000000</td>\n",
							"      <td>3.000000</td>\n",
							"      <td>1.000000</td>\n",
							"    </tr>\n",
							"  </tbody>\n",
							"</table>\n",
							"</div>"
						],
						"text/plain": [
							"              age         sex          cp    trestbps        chol         fbs  \\\n",
							"count  303.000000  303.000000  303.000000  303.000000  303.000000  303.000000   \n",
							"mean    54.366337    0.683168    0.966997  131.623762  246.264026    0.148515   \n",
							"std      9.082101    0.466011    1.032052   17.538143   51.830751    0.356198   \n",
							"min     29.000000    0.000000    0.000000   94.000000  126.000000    0.000000   \n",
							"25%     47.500000    0.000000    0.000000  120.000000  211.000000    0.000000   \n",
							"50%     55.000000    1.000000    1.000000  130.000000  240.000000    0.000000   \n",
							"75%     61.000000    1.000000    2.000000  140.000000  274.500000    0.000000   \n",
							"max     77.000000    1.000000    3.000000  200.000000  564.000000    1.000000   \n",
							"\n",
							"          restecg     thalach       exang     oldpeak       slope          ca  \\\n",
							"count  303.000000  303.000000  303.000000  303.000000  303.000000  303.000000   \n",
							"mean     0.528053  149.646865    0.326733    1.039604    1.399340    0.729373   \n",
							"std      0.525860   22.905161    0.469794    1.161075    0.616226    1.022606   \n",
							"min      0.000000   71.000000    0.000000    0.000000    0.000000    0.000000   \n",
							"25%      0.000000  133.500000    0.000000    0.000000    1.000000    0.000000   \n",
							"50%      1.000000  153.000000    0.000000    0.800000    1.000000    0.000000   \n",
							"75%      1.000000  166.000000    1.000000    1.600000    2.000000    1.000000   \n",
							"max      2.000000  202.000000    1.000000    6.200000    2.000000    4.000000   \n",
							"\n",
							"             thal      target  \n",
							"count  303.000000  303.000000  \n",
							"mean     2.313531    0.544554  \n",
							"std      0.612277    0.498835  \n",
							"min      0.000000    0.000000  \n",
							"25%      2.000000    0.000000  \n",
							"50%      2.000000    1.000000  \n",
							"75%      3.000000    1.000000  \n",
							"max      3.000000    1.000000  "
						]
					},
					"execution_count": 33,
					"metadata": {},
					"output_type": "execute_result"
				}
			],
			"source": [
				"df.describe()"
			]
		},
		{
			"cell_type": "code",
			"execution_count": 36,
			"id": "bcbd8256",
			"metadata": {},
			"outputs": [
				{
					"data": {
						"text/plain": [
							"1    207\n",
							"0     96\n",
							"Name: sex, dtype: int64"
						]
					},
					"execution_count": 36,
					"metadata": {},
					"output_type": "execute_result"
				}
			],
			"source": [
				"df.sex.value_counts()"
			]
		},
		{
			"cell_type": "code",
			"execution_count": 38,
			"id": "d5c27895",
			"metadata": {},
			"outputs": [
				{
					"data": {
						"text/html": [
							"<div>\n",
							"<style scoped>\n",
							"    .dataframe tbody tr th:only-of-type {\n",
							"        vertical-align: middle;\n",
							"    }\n",
							"\n",
							"    .dataframe tbody tr th {\n",
							"        vertical-align: top;\n",
							"    }\n",
							"\n",
							"    .dataframe thead th {\n",
							"        text-align: right;\n",
							"    }\n",
							"</style>\n",
							"<table border=\"1\" class=\"dataframe\">\n",
							"  <thead>\n",
							"    <tr style=\"text-align: right;\">\n",
							"      <th>target</th>\n",
							"      <th>0</th>\n",
							"      <th>1</th>\n",
							"    </tr>\n",
							"    <tr>\n",
							"      <th>sex</th>\n",
							"      <th></th>\n",
							"      <th></th>\n",
							"    </tr>\n",
							"  </thead>\n",
							"  <tbody>\n",
							"    <tr>\n",
							"      <th>0</th>\n",
							"      <td>24</td>\n",
							"      <td>72</td>\n",
							"    </tr>\n",
							"    <tr>\n",
							"      <th>1</th>\n",
							"      <td>114</td>\n",
							"      <td>93</td>\n",
							"    </tr>\n",
							"  </tbody>\n",
							"</table>\n",
							"</div>"
						],
						"text/plain": [
							"target    0   1\n",
							"sex            \n",
							"0        24  72\n",
							"1       114  93"
						]
					},
					"execution_count": 38,
					"metadata": {},
					"output_type": "execute_result"
				}
			],
			"source": [
				"pd.crosstab(df.sex, df.target)"
			]
		},
		{
			"attachments": {},
			"cell_type": "markdown",
			"id": "89bbccdb",
			"metadata": {},
			"source": [
				"This code block uses the **pandas** library's **crosstab** method to create a cross-tabulation of the \"target\" and \"sex\" columns in the df DataFrame. A cross-tabulation is a type of table used to summarize the relationship between two categorical variables. The resulting table gives the count of instances where the \"target\" value is 0 or 1, and the \"sex\" value is either \"Male\" or \"Female\".\n",
				"\n",
				"The resulting table is then plotted as a bar plot using the .plot() method, with the kind argument set to \"bar\". The **plt.title()**, **plt.xlabel()**, and **plt.ylabel()** functions are used to add a title, x-axis label, and y-axis label to the plot, respectively. The **plt.legend()** function is used to specify the legend for the plot, with \"Male\" and \"Female\" being the two categories. The plt.xticks(rotation=0) line is used to rotate the x-axis tick labels to make them easier to read.\n",
				"\n",
				"This plot can help to identify any significant differences in the frequency of heart disease between males and females, and can provide insights into any potential relationships between the target variable and the \"sex\" variable."
			]
		},
		{
			"cell_type": "code",
			"execution_count": 47,
			"id": "a8710c2e",
			"metadata": {},
			"outputs": [
				{
					"data": {
						"image/png": "[encoded data removed]",
						"text/plain": [
							"<Figure size 432x288 with 1 Axes>"
						]
					},
					"metadata": {
						"needs_background": "light"
					},
					"output_type": "display_data"
				}
			],
			"source": [
				"pd.crosstab(df.target, df.sex).plot(kind=\"bar\")\n",
				"plt.title(\"Heart disease frequency for sex\")\n",
				"plt.xlabel(\"Target\")\n",
				"plt.ylabel(\"Sex\")\n",
				"plt.legend([\"Male\", \"Female\"])\n",
				"plt.xticks(rotation=0);"
			]
		},
		{
			"cell_type": "markdown",
			"id": "497a727c",
			"metadata": {},
			"source": [
				"**Age vs Max HeartRate for Heart disease**"
			]
		},
		{
			"cell_type": "code",
			"execution_count": 58,
			"id": "023cce11",
			"metadata": {},
			"outputs": [
				{
					"data": {
						"image/png": "[encoded data removed]",
						"text/plain": [
							"<Figure size 720x432 with 1 Axes>"
						]
					},
					"metadata": {
						"needs_background": "light"
					},
					"output_type": "display_data"
				}
			],
			"source": [
				"plt.figure(figsize=(10,6))\n",
				"plt.scatter(df.age[df.target==1], df.thalach[df.target==1]);\n",
				"# df.age[df.target==1] -----> give us age where target == 1\n",
				"\n",
				"plt.scatter(df.age[df.target==0], df.thalach[df.target==0]);\n",
				"\n",
				"plt.title(\"Age and Thalach\")\n",
				"plt.xlabel(\"Age\")\n",
				"plt.ylabel(\"Thalach\")\n",
				"plt.legend([\"Disease\", \"No Disease\"]);"
			]
		},
		{
			"attachments": {},
			"cell_type": "markdown",
			"id": "c8ab82c9",
			"metadata": {},
			"source": [
				"This code block plots a histogram of the \"age\" column in the **df** DataFrame. A histogram is a graphical representation of the distribution of a set of numerical data.\n",
				"\n",
				"The **.plot.hist()** method is used to create the histogram, which shows the distribution of the ages in the \"age\" column. The semicolon at the end of the line is used to suppress the display of the resulting plot's object type and memory address, which can be useful in a Jupyter Notebook where multiple plots are being generated in the same cell.\n",
				"\n",
				"This histogram can provide information about the distribution of ages in the data, including the central tendency, spread, and shape of the distribution. This information can be useful in understanding the relationship between the target variable and the \"age\" variable, as well as in selecting appropriate feature scaling methods for our data."
			]
		},
		{
			"cell_type": "code",
			"execution_count": 60,
			"id": "794945f7",
			"metadata": {},
			"outputs": [
				{
					"data": {
						"image/png": "[encoded data removed]",
						"text/plain": [
							"<Figure size 432x288 with 1 Axes>"
						]
					},
					"metadata": {
						"needs_background": "light"
					},
					"output_type": "display_data"
				}
			],
			"source": [
				"df.age.plot.hist();"
			]
		},
		{
			"cell_type": "code",
			"execution_count": 61,
			"id": "e978386a",
			"metadata": {},
			"outputs": [
				{
					"data": {
						"text/html": [
							"<div>\n",
							"<style scoped>\n",
							"    .dataframe tbody tr th:only-of-type {\n",
							"        vertical-align: middle;\n",
							"    }\n",
							"\n",
							"    .dataframe tbody tr th {\n",
							"        vertical-align: top;\n",
							"    }\n",
							"\n",
							"    .dataframe thead th {\n",
							"        text-align: right;\n",
							"    }\n",
							"</style>\n",
							"<table border=\"1\" class=\"dataframe\">\n",
							"  <thead>\n",
							"    <tr style=\"text-align: right;\">\n",
							"      <th>target</th>\n",
							"      <th>0</th>\n",
							"      <th>1</th>\n",
							"    </tr>\n",
							"    <tr>\n",
							"      <th>cp</th>\n",
							"      <th></th>\n",
							"      <th></th>\n",
							"    </tr>\n",
							"  </thead>\n",
							"  <tbody>\n",
							"    <tr>\n",
							"      <th>0</th>\n",
							"      <td>104</td>\n",
							"      <td>39</td>\n",
							"    </tr>\n",
							"    <tr>\n",
							"      <th>1</th>\n",
							"      <td>9</td>\n",
							"      <td>41</td>\n",
							"    </tr>\n",
							"    <tr>\n",
							"      <th>2</th>\n",
							"      <td>18</td>\n",
							"      <td>69</td>\n",
							"    </tr>\n",
							"    <tr>\n",
							"      <th>3</th>\n",
							"      <td>7</td>\n",
							"      <td>16</td>\n",
							"    </tr>\n",
							"  </tbody>\n",
							"</table>\n",
							"</div>"
						],
						"text/plain": [
							"target    0   1\n",
							"cp             \n",
							"0       104  39\n",
							"1         9  41\n",
							"2        18  69\n",
							"3         7  16"
						]
					},
					"execution_count": 61,
					"metadata": {},
					"output_type": "execute_result"
				}
			],
			"source": [
				"pd.crosstab(df.cp, df.target)"
			]
		},
		{
			"attachments": {},
			"cell_type": "markdown",
			"id": "c99cb712",
			"metadata": {},
			"source": [
				"This code block uses the **pandas** library's **crosstab** method to create a cross-tabulation of the \"cp\" (chest pain) and \"target\" columns in the **df** DataFrame. A cross-tabulation is a type of table used to summarize the relationship between two categorical variables. The resulting table gives the count of instances where the \"target\" value is 0 or 1, and the \"cp\" value is one of four categories (0, 1, 2, or 3).\n",
				"\n",
				"The resulting table is then plotted as a bar plot using the **.plot() **method, with the kind argument set to \"bar\". The **plt.title(), plt.xlabel**(), and **plt.ylabel()** functions are used to add a title, x-axis label, and y-axis label to the plot, respectively. The plt.legend() function is used to specify the legend for the plot, with \"No Disease\" and \"Disease\" being the two categories.\n",
				"\n",
				"This plot can help to identify any significant relationships between the frequency of chest pain and the presence or absence of heart disease, and can provide insights into the relationship between the target variable and the \"cp\" variable."
			]
		},
		{
			"cell_type": "code",
			"execution_count": 68,
			"id": "a7150776",
			"metadata": {},
			"outputs": [
				{
					"data": {
						"image/png": "[encoded data removed]",
						"text/plain": [
							"<Figure size 432x288 with 1 Axes>"
						]
					},
					"metadata": {
						"needs_background": "light"
					},
					"output_type": "display_data"
				}
			],
			"source": [
				"pd.crosstab(df.cp, df.target).plot(kind=\"bar\")\n",
				"plt.title(\"Chest Pain and Disease Relation\")\n",
				"plt.xlabel(\"Chest Pain\")\n",
				"plt.ylabel(\"Heart Disease\")\n",
				"plt.legend([\"No Disease\", \"Disease\"]);"
			]
		},
		{
			"attachments": {},
			"cell_type": "markdown",
			"id": "da3dbac8",
			"metadata": {},
			"source": [
				"This code block calculates the pairwise Pearson correlation coefficient between all columns in the df DataFrame using the **.corr()** method. The Pearson correlation coefficient measures the linear relationship between two continuous variables. The value of the coefficient ranges from -1 to 1, with -1 indicating a strong negative correlation, 0 indicating no correlation, and 1 indicating a strong positive correlation.\n",
				"\n",
				"The output of the **.corr()** method is a correlation matrix, which is a table showing the correlation between each pair of variables in the DataFrame. This correlation matrix can provide information about the strength and direction of the relationships between the variables in the data, which can be useful in identifying relevant features for building a machine learning model.\n",
				"\n",
				"Note that this correlation matrix only considers linear relationships, and other types of relationships (e.g., nonlinear, categorical) may not be reflected in the correlation coefficients."
			]
		},
		{
			"cell_type": "code",
			"execution_count": 71,
			"id": "fceeb718",
			"metadata": {},
			"outputs": [
				{
					"data": {
						"text/html": [
							"<div>\n",
							"<style scoped>\n",
							"    .dataframe tbody tr th:only-of-type {\n",
							"        vertical-align: middle;\n",
							"    }\n",
							"\n",
							"    .dataframe tbody tr th {\n",
							"        vertical-align: top;\n",
							"    }\n",
							"\n",
							"    .dataframe thead th {\n",
							"        text-align: right;\n",
							"    }\n",
							"</style>\n",
							"<table border=\"1\" class=\"dataframe\">\n",
							"  <thead>\n",
							"    <tr style=\"text-align: right;\">\n",
							"      <th></th>\n",
							"      <th>age</th>\n",
							"      <th>sex</th>\n",
							"      <th>cp</th>\n",
							"      <th>trestbps</th>\n",
							"      <th>chol</th>\n",
							"      <th>fbs</th>\n",
							"      <th>restecg</th>\n",
							"      <th>thalach</th>\n",
							"      <th>exang</th>\n",
							"      <th>oldpeak</th>\n",
							"      <th>slope</th>\n",
							"      <th>ca</th>\n",
							"      <th>thal</th>\n",
							"      <th>target</th>\n",
							"    </tr>\n",
							"  </thead>\n",
							"  <tbody>\n",
							"    <tr>\n",
							"      <th>age</th>\n",
							"      <td>1.000000</td>\n",
							"      <td>-0.098447</td>\n",
							"      <td>-0.068653</td>\n",
							"      <td>0.279351</td>\n",
							"      <td>0.213678</td>\n",
							"      <td>0.121308</td>\n",
							"      <td>-0.116211</td>\n",
							"      <td>-0.398522</td>\n",
							"      <td>0.096801</td>\n",
							"      <td>0.210013</td>\n",
							"      <td>-0.168814</td>\n",
							"      <td>0.276326</td>\n",
							"      <td>0.068001</td>\n",
							"      <td>-0.225439</td>\n",
							"    </tr>\n",
							"    <tr>\n",
							"      <th>sex</th>\n",
							"      <td>-0.098447</td>\n",
							"      <td>1.000000</td>\n",
							"      <td>-0.049353</td>\n",
							"      <td>-0.056769</td>\n",
							"      <td>-0.197912</td>\n",
							"      <td>0.045032</td>\n",
							"      <td>-0.058196</td>\n",
							"      <td>-0.044020</td>\n",
							"      <td>0.141664</td>\n",
							"      <td>0.096093</td>\n",
							"      <td>-0.030711</td>\n",
							"      <td>0.118261</td>\n",
							"      <td>0.210041</td>\n",
							"      <td>-0.280937</td>\n",
							"    </tr>\n",
							"    <tr>\n",
							"      <th>cp</th>\n",
							"      <td>-0.068653</td>\n",
							"      <td>-0.049353</td>\n",
							"      <td>1.000000</td>\n",
							"      <td>0.047608</td>\n",
							"      <td>-0.076904</td>\n",
							"      <td>0.094444</td>\n",
							"      <td>0.044421</td>\n",
							"      <td>0.295762</td>\n",
							"      <td>-0.394280</td>\n",
							"      <td>-0.149230</td>\n",
							"      <td>0.119717</td>\n",
							"      <td>-0.181053</td>\n",
							"      <td>-0.161736</td>\n",
							"      <td>0.433798</td>\n",
							"    </tr>\n",
							"    <tr>\n",
							"      <th>trestbps</th>\n",
							"      <td>0.279351</td>\n",
							"      <td>-0.056769</td>\n",
							"      <td>0.047608</td>\n",
							"      <td>1.000000</td>\n",
							"      <td>0.123174</td>\n",
							"      <td>0.177531</td>\n",
							"      <td>-0.114103</td>\n",
							"      <td>-0.046698</td>\n",
							"      <td>0.067616</td>\n",
							"      <td>0.193216</td>\n",
							"      <td>-0.121475</td>\n",
							"      <td>0.101389</td>\n",
							"      <td>0.062210</td>\n",
							"      <td>-0.144931</td>\n",
							"    </tr>\n",
							"    <tr>\n",
							"      <th>chol</th>\n",
							"      <td>0.213678</td>\n",
							"      <td>-0.197912</td>\n",
							"      <td>-0.076904</td>\n",
							"      <td>0.123174</td>\n",
							"      <td>1.000000</td>\n",
							"      <td>0.013294</td>\n",
							"      <td>-0.151040</td>\n",
							"      <td>-0.009940</td>\n",
							"      <td>0.067023</td>\n",
							"      <td>0.053952</td>\n",
							"      <td>-0.004038</td>\n",
							"      <td>0.070511</td>\n",
							"      <td>0.098803</td>\n",
							"      <td>-0.085239</td>\n",
							"    </tr>\n",
							"    <tr>\n",
							"      <th>fbs</th>\n",
							"      <td>0.121308</td>\n",
							"      <td>0.045032</td>\n",
							"      <td>0.094444</td>\n",
							"      <td>0.177531</td>\n",
							"      <td>0.013294</td>\n",
							"      <td>1.000000</td>\n",
							"      <td>-0.084189</td>\n",
							"      <td>-0.008567</td>\n",
							"      <td>0.025665</td>\n",
							"      <td>0.005747</td>\n",
							"      <td>-0.059894</td>\n",
							"      <td>0.137979</td>\n",
							"      <td>-0.032019</td>\n",
							"      <td>-0.028046</td>\n",
							"    </tr>\n",
							"    <tr>\n",
							"      <th>restecg</th>\n",
							"      <td>-0.116211</td>\n",
							"      <td>-0.058196</td>\n",
							"      <td>0.044421</td>\n",
							"      <td>-0.114103</td>\n",
							"      <td>-0.151040</td>\n",
							"      <td>-0.084189</td>\n",
							"      <td>1.000000</td>\n",
							"      <td>0.044123</td>\n",
							"      <td>-0.070733</td>\n",
							"      <td>-0.058770</td>\n",
							"      <td>0.093045</td>\n",
							"      <td>-0.072042</td>\n",
							"      <td>-0.011981</td>\n",
							"      <td>0.137230</td>\n",
							"    </tr>\n",
							"    <tr>\n",
							"      <th>thalach</th>\n",
							"      <td>-0.398522</td>\n",
							"      <td>-0.044020</td>\n",
							"      <td>0.295762</td>\n",
							"      <td>-0.046698</td>\n",
							"      <td>-0.009940</td>\n",
							"      <td>-0.008567</td>\n",
							"      <td>0.044123</td>\n",
							"      <td>1.000000</td>\n",
							"      <td>-0.378812</td>\n",
							"      <td>-0.344187</td>\n",
							"      <td>0.386784</td>\n",
							"      <td>-0.213177</td>\n",
							"      <td>-0.096439</td>\n",
							"      <td>0.421741</td>\n",
							"    </tr>\n",
							"    <tr>\n",
							"      <th>exang</th>\n",
							"      <td>0.096801</td>\n",
							"      <td>0.141664</td>\n",
							"      <td>-0.394280</td>\n",
							"      <td>0.067616</td>\n",
							"      <td>0.067023</td>\n",
							"      <td>0.025665</td>\n",
							"      <td>-0.070733</td>\n",
							"      <td>-0.378812</td>\n",
							"      <td>1.000000</td>\n",
							"      <td>0.288223</td>\n",
							"      <td>-0.257748</td>\n",
							"      <td>0.115739</td>\n",
							"      <td>0.206754</td>\n",
							"      <td>-0.436757</td>\n",
							"    </tr>\n",
							"    <tr>\n",
							"      <th>oldpeak</th>\n",
							"      <td>0.210013</td>\n",
							"      <td>0.096093</td>\n",
							"      <td>-0.149230</td>\n",
							"      <td>0.193216</td>\n",
							"      <td>0.053952</td>\n",
							"      <td>0.005747</td>\n",
							"      <td>-0.058770</td>\n",
							"      <td>-0.344187</td>\n",
							"      <td>0.288223</td>\n",
							"      <td>1.000000</td>\n",
							"      <td>-0.577537</td>\n",
							"      <td>0.222682</td>\n",
							"      <td>0.210244</td>\n",
							"      <td>-0.430696</td>\n",
							"    </tr>\n",
							"    <tr>\n",
							"      <th>slope</th>\n",
							"      <td>-0.168814</td>\n",
							"      <td>-0.030711</td>\n",
							"      <td>0.119717</td>\n",
							"      <td>-0.121475</td>\n",
							"      <td>-0.004038</td>\n",
							"      <td>-0.059894</td>\n",
							"      <td>0.093045</td>\n",
							"      <td>0.386784</td>\n",
							"      <td>-0.257748</td>\n",
							"      <td>-0.577537</td>\n",
							"      <td>1.000000</td>\n",
							"      <td>-0.080155</td>\n",
							"      <td>-0.104764</td>\n",
							"      <td>0.345877</td>\n",
							"    </tr>\n",
							"    <tr>\n",
							"      <th>ca</th>\n",
							"      <td>0.276326</td>\n",
							"      <td>0.118261</td>\n",
							"      <td>-0.181053</td>\n",
							"      <td>0.101389</td>\n",
							"      <td>0.070511</td>\n",
							"      <td>0.137979</td>\n",
							"      <td>-0.072042</td>\n",
							"      <td>-0.213177</td>\n",
							"      <td>0.115739</td>\n",
							"      <td>0.222682</td>\n",
							"      <td>-0.080155</td>\n",
							"      <td>1.000000</td>\n",
							"      <td>0.151832</td>\n",
							"      <td>-0.391724</td>\n",
							"    </tr>\n",
							"    <tr>\n",
							"      <th>thal</th>\n",
							"      <td>0.068001</td>\n",
							"      <td>0.210041</td>\n",
							"      <td>-0.161736</td>\n",
							"      <td>0.062210</td>\n",
							"      <td>0.098803</td>\n",
							"      <td>-0.032019</td>\n",
							"      <td>-0.011981</td>\n",
							"      <td>-0.096439</td>\n",
							"      <td>0.206754</td>\n",
							"      <td>0.210244</td>\n",
							"      <td>-0.104764</td>\n",
							"      <td>0.151832</td>\n",
							"      <td>1.000000</td>\n",
							"      <td>-0.344029</td>\n",
							"    </tr>\n",
							"    <tr>\n",
							"      <th>target</th>\n",
							"      <td>-0.225439</td>\n",
							"      <td>-0.280937</td>\n",
							"      <td>0.433798</td>\n",
							"      <td>-0.144931</td>\n",
							"      <td>-0.085239</td>\n",
							"      <td>-0.028046</td>\n",
							"      <td>0.137230</td>\n",
							"      <td>0.421741</td>\n",
							"      <td>-0.436757</td>\n",
							"      <td>-0.430696</td>\n",
							"      <td>0.345877</td>\n",
							"      <td>-0.391724</td>\n",
							"      <td>-0.344029</td>\n",
							"      <td>1.000000</td>\n",
							"    </tr>\n",
							"  </tbody>\n",
							"</table>\n",
							"</div>"
						],
						"text/plain": [
							"               age       sex        cp  trestbps      chol       fbs  \\\n",
							"age       1.000000 -0.098447 -0.068653  0.279351  0.213678  0.121308   \n",
							"sex      -0.098447  1.000000 -0.049353 -0.056769 -0.197912  0.045032   \n",
							"cp       -0.068653 -0.049353  1.000000  0.047608 -0.076904  0.094444   \n",
							"trestbps  0.279351 -0.056769  0.047608  1.000000  0.123174  0.177531   \n",
							"chol      0.213678 -0.197912 -0.076904  0.123174  1.000000  0.013294   \n",
							"fbs       0.121308  0.045032  0.094444  0.177531  0.013294  1.000000   \n",
							"restecg  -0.116211 -0.058196  0.044421 -0.114103 -0.151040 -0.084189   \n",
							"thalach  -0.398522 -0.044020  0.295762 -0.046698 -0.009940 -0.008567   \n",
							"exang     0.096801  0.141664 -0.394280  0.067616  0.067023  0.025665   \n",
							"oldpeak   0.210013  0.096093 -0.149230  0.193216  0.053952  0.005747   \n",
							"slope    -0.168814 -0.030711  0.119717 -0.121475 -0.004038 -0.059894   \n",
							"ca        0.276326  0.118261 -0.181053  0.101389  0.070511  0.137979   \n",
							"thal      0.068001  0.210041 -0.161736  0.062210  0.098803 -0.032019   \n",
							"target   -0.225439 -0.280937  0.433798 -0.144931 -0.085239 -0.028046   \n",
							"\n",
							"           restecg   thalach     exang   oldpeak     slope        ca  \\\n",
							"age      -0.116211 -0.398522  0.096801  0.210013 -0.168814  0.276326   \n",
							"sex      -0.058196 -0.044020  0.141664  0.096093 -0.030711  0.118261   \n",
							"cp        0.044421  0.295762 -0.394280 -0.149230  0.119717 -0.181053   \n",
							"trestbps -0.114103 -0.046698  0.067616  0.193216 -0.121475  0.101389   \n",
							"chol     -0.151040 -0.009940  0.067023  0.053952 -0.004038  0.070511   \n",
							"fbs      -0.084189 -0.008567  0.025665  0.005747 -0.059894  0.137979   \n",
							"restecg   1.000000  0.044123 -0.070733 -0.058770  0.093045 -0.072042   \n",
							"thalach   0.044123  1.000000 -0.378812 -0.344187  0.386784 -0.213177   \n",
							"exang    -0.070733 -0.378812  1.000000  0.288223 -0.257748  0.115739   \n",
							"oldpeak  -0.058770 -0.344187  0.288223  1.000000 -0.577537  0.222682   \n",
							"slope     0.093045  0.386784 -0.257748 -0.577537  1.000000 -0.080155   \n",
							"ca       -0.072042 -0.213177  0.115739  0.222682 -0.080155  1.000000   \n",
							"thal     -0.011981 -0.096439  0.206754  0.210244 -0.104764  0.151832   \n",
							"target    0.137230  0.421741 -0.436757 -0.430696  0.345877 -0.391724   \n",
							"\n",
							"              thal    target  \n",
							"age       0.068001 -0.225439  \n",
							"sex       0.210041 -0.280937  \n",
							"cp       -0.161736  0.433798  \n",
							"trestbps  0.062210 -0.144931  \n",
							"chol      0.098803 -0.085239  \n",
							"fbs      -0.032019 -0.028046  \n",
							"restecg  -0.011981  0.137230  \n",
							"thalach  -0.096439  0.421741  \n",
							"exang     0.206754 -0.436757  \n",
							"oldpeak   0.210244 -0.430696  \n",
							"slope    -0.104764  0.345877  \n",
							"ca        0.151832 -0.391724  \n",
							"thal      1.000000 -0.344029  \n",
							"target   -0.344029  1.000000  "
						]
					},
					"execution_count": 71,
					"metadata": {},
					"output_type": "execute_result"
				}
			],
			"source": [
				"# correlation\n",
				"df.corr()"
			]
		},
		{
			"attachments": {},
			"cell_type": "markdown",
			"id": "39623a45",
			"metadata": {},
			"source": [
				"This code block creates a heatmap of the correlation matrix calculated in the previous cell. The **sns.heatmap()** function from the seaborn library is used to create the heatmap.\n",
				"\n",
				"The **annot** argument is set to **True** to display the values of the correlation coefficients in each cell of the heatmap, and the **linewidths** argument is set to **0.5** to control the width of the lines separating the cells. The fmt argument is set to \"**.2f**\" to specify the format of the displayed values, with \"**.2f**\" meaning to display the values with two decimal places.\n",
				"\n",
				"The resulting heatmap provides a graphical representation of the relationships between the variables in the data, making it easier to quickly identify which variables are positively or negatively correlated, and to what extent. The darker the color, the stronger the correlation. This information can be used to identify features that are likely to be important in predicting the target variable, and can also be useful in identifying multicollinearity between features."
			]
		},
		{
			"cell_type": "code",
			"execution_count": 80,
			"id": "78e617aa",
			"metadata": {},
			"outputs": [
				{
					"data": {
						"image/png": "[encoded data removed]",
						"text/plain": [
							"<Figure size 1080x720 with 2 Axes>"
						]
					},
					"metadata": {
						"needs_background": "light"
					},
					"output_type": "display_data"
				}
			],
			"source": [
				"cor_metricx=df.corr() # corr --> corelation\n",
				"fig, axis=plt.subplots(figsize=(15,10))\n",
				"axis=sns.heatmap(cor_metricx, annot=True, linewidths=0.5, fmt=\".2f\") # annot-->numbers inside boxs"
			]
		},
		{
			"cell_type": "code",
			"execution_count": 3,
			"id": "4ae38593",
			"metadata": {},
			"outputs": [
				{
					"data": {
						"text/html": [
							"<div>\n",
							"<style scoped>\n",
							"    .dataframe tbody tr th:only-of-type {\n",
							"        vertical-align: middle;\n",
							"    }\n",
							"\n",
							"    .dataframe tbody tr th {\n",
							"        vertical-align: top;\n",
							"    }\n",
							"\n",
							"    .dataframe thead th {\n",
							"        text-align: right;\n",
							"    }\n",
							"</style>\n",
							"<table border=\"1\" class=\"dataframe\">\n",
							"  <thead>\n",
							"    <tr style=\"text-align: right;\">\n",
							"      <th></th>\n",
							"      <th>age</th>\n",
							"      <th>sex</th>\n",
							"      <th>cp</th>\n",
							"      <th>trestbps</th>\n",
							"      <th>chol</th>\n",
							"      <th>fbs</th>\n",
							"      <th>restecg</th>\n",
							"      <th>thalach</th>\n",
							"      <th>exang</th>\n",
							"      <th>oldpeak</th>\n",
							"      <th>slope</th>\n",
							"      <th>ca</th>\n",
							"      <th>thal</th>\n",
							"      <th>target</th>\n",
							"    </tr>\n",
							"  </thead>\n",
							"  <tbody>\n",
							"    <tr>\n",
							"      <th>0</th>\n",
							"      <td>63</td>\n",
							"      <td>1</td>\n",
							"      <td>3</td>\n",
							"      <td>145</td>\n",
							"      <td>233</td>\n",
							"      <td>1</td>\n",
							"      <td>0</td>\n",
							"      <td>150</td>\n",
							"      <td>0</td>\n",
							"      <td>2.3</td>\n",
							"      <td>0</td>\n",
							"      <td>0</td>\n",
							"      <td>1</td>\n",
							"      <td>1</td>\n",
							"    </tr>\n",
							"    <tr>\n",
							"      <th>1</th>\n",
							"      <td>37</td>\n",
							"      <td>1</td>\n",
							"      <td>2</td>\n",
							"      <td>130</td>\n",
							"      <td>250</td>\n",
							"      <td>0</td>\n",
							"      <td>1</td>\n",
							"      <td>187</td>\n",
							"      <td>0</td>\n",
							"      <td>3.5</td>\n",
							"      <td>0</td>\n",
							"      <td>0</td>\n",
							"      <td>2</td>\n",
							"      <td>1</td>\n",
							"    </tr>\n",
							"    <tr>\n",
							"      <th>2</th>\n",
							"      <td>41</td>\n",
							"      <td>0</td>\n",
							"      <td>1</td>\n",
							"      <td>130</td>\n",
							"      <td>204</td>\n",
							"      <td>0</td>\n",
							"      <td>0</td>\n",
							"      <td>172</td>\n",
							"      <td>0</td>\n",
							"      <td>1.4</td>\n",
							"      <td>2</td>\n",
							"      <td>0</td>\n",
							"      <td>2</td>\n",
							"      <td>1</td>\n",
							"    </tr>\n",
							"    <tr>\n",
							"      <th>3</th>\n",
							"      <td>56</td>\n",
							"      <td>1</td>\n",
							"      <td>1</td>\n",
							"      <td>120</td>\n",
							"      <td>236</td>\n",
							"      <td>0</td>\n",
							"      <td>1</td>\n",
							"      <td>178</td>\n",
							"      <td>0</td>\n",
							"      <td>0.8</td>\n",
							"      <td>2</td>\n",
							"      <td>0</td>\n",
							"      <td>2</td>\n",
							"      <td>1</td>\n",
							"    </tr>\n",
							"    <tr>\n",
							"      <th>4</th>\n",
							"      <td>57</td>\n",
							"      <td>0</td>\n",
							"      <td>0</td>\n",
							"      <td>120</td>\n",
							"      <td>354</td>\n",
							"      <td>0</td>\n",
							"      <td>1</td>\n",
							"      <td>163</td>\n",
							"      <td>1</td>\n",
							"      <td>0.6</td>\n",
							"      <td>2</td>\n",
							"      <td>0</td>\n",
							"      <td>2</td>\n",
							"      <td>1</td>\n",
							"    </tr>\n",
							"  </tbody>\n",
							"</table>\n",
							"</div>"
						],
						"text/plain": [
							"   age  sex  cp  trestbps  chol  fbs  restecg  thalach  exang  oldpeak  slope  \\\n",
							"0   63    1   3       145   233    1        0      150      0      2.3      0   \n",
							"1   37    1   2       130   250    0        1      187      0      3.5      0   \n",
							"2   41    0   1       130   204    0        0      172      0      1.4      2   \n",
							"3   56    1   1       120   236    0        1      178      0      0.8      2   \n",
							"4   57    0   0       120   354    0        1      163      1      0.6      2   \n",
							"\n",
							"   ca  thal  target  \n",
							"0   0     1       1  \n",
							"1   0     2       1  \n",
							"2   0     2       1  \n",
							"3   0     2       1  \n",
							"4   0     2       1  "
						]
					},
					"execution_count": 3,
					"metadata": {},
					"output_type": "execute_result"
				}
			],
			"source": [
				"df.head()"
			]
		},
		{
			"attachments": {},
			"cell_type": "markdown",
			"id": "76fe51d3",
			"metadata": {},
			"source": [
				"This code block creates two separate arrays, one for the features (**x**) and one for the target (y) of the data.\n",
				"\n",
				"The **df.drop()** method is used to remove the \"target\" column from the df DataFrame and create a new DataFrame x containing all the other columns, which will be used as the features in the machine learning model. The axis argument is set to 1 to indicate that the \"target\" column should be dropped along the columns axis.\n",
				"\n",
				"The target array y is created by indexing the \"target\" column from the original df DataFrame.\n",
				"\n",
				"These two arrays will be used as input for the machine learning models in the following cells."
			]
		},
		{
			"cell_type": "code",
			"execution_count": 6,
			"id": "73a45c7e",
			"metadata": {},
			"outputs": [],
			"source": [
				"x=df.drop(\"target\", axis=1)\n",
				"y=df[\"target\"]"
			]
		},
		{
			"cell_type": "markdown",
			"id": "c2acc991",
			"metadata": {},
			"source": [
				"**`split data`**"
			]
		},
		{
			"attachments": {},
			"cell_type": "markdown",
			"id": "2876cd8d",
			"metadata": {},
			"source": [
				"This code block splits the feature and target arrays into training and testing datasets.\n",
				"\n",
				"The **np.random.seed(2)** line sets the random seed to 2, which ensures that the same random numbers will be generated each time the code is run, ensuring that the same split between training and testing data is made each time.\n",
				"\n",
				"The **train_test_split** function from the sklearn.model_selection module is then used to split the x and y arrays into training and testing datasets. The test_size argument is set to 0.2, which means that 20% of the data will be used for testing and 80% of the data will be used for training.\n",
				"\n",
				"The resulting training datasets **x_train** and **y_train** will be used to train the machine learning models, and the testing datasets **x_test** and **y_test** will be used to evaluate the performance of the trained models. This is a common practice in machine learning, as it ensures that the model is tested on a completely independent dataset from the one it was trained on, giving a better representation of its performance on new, unseen data."
			]
		},
		{
			"cell_type": "code",
			"execution_count": 7,
			"id": "1617e116",
			"metadata": {},
			"outputs": [],
			"source": [
				"np.random.seed(2)\n",
				"\n",
				"x_train, x_test, y_train, y_test = train_test_split(x,y, test_size=0.2)"
			]
		},
		{
			"cell_type": "markdown",
			"id": "25987969",
			"metadata": {},
			"source": [
				"* logistic regression\n",
				"* K-Nearest Neightbour Classifier\n",
				"* Random Forest Classifier"
			]
		},
		{
			"attachments": {},
			"cell_type": "markdown",
			"id": "ec3192fc",
			"metadata": {},
			"source": [
				"This code block defines a function named **fit_score** which will fit and evaluate the performance of three different machine learning models: logistic regression, K-nearest neighbors (KNN), and random forest.\n",
				"\n",
				"The **models** dictionary at the beginning of the code block associates the names of the models (\"Logistic Regression\", \"KNN\", and \"Random Forest\") with the corresponding machine learning model classes from scikit-learn (**LogisticRegression, KNeighborsClassifier,** and **RandomForestClassifier**).\n",
				"\n",
				"The **fit_score** function takes four arguments: models, x_train, x_test, y_train, and y_test. The models argument is the dictionary of model names and their corresponding model classes, x_train and y_train are the training feature and target arrays, and x_test and y_test are the testing feature and target arrays.\n",
				"\n",
				"The function starts by setting the random seed to 2 using np.random.seed(2), which ensures that the same random numbers will be generated each time the code is run.\n",
				"\n",
				"A dictionary named model_score is then initialized, which will store the accuracy scores of the trained models.\n",
				"\n",
				"A for loop then iterates over the models dictionary, fitting each model using the fit method and then evaluating its accuracy using the score method on the testing datasets. The accuracy scores are then stored in the model_score dictionary, with the model names as the keys and the accuracy scores as the values.\n",
				"\n",
				"Finally, the model_score dictionary is returned by the function"
			]
		},
		{
			"cell_type": "code",
			"execution_count": 30,
			"id": "72a0ba3f",
			"metadata": {},
			"outputs": [],
			"source": [
				"models={\"Logistic Regression\" : LogisticRegression(), \n",
				"      \"KNN\" : KNeighborsClassifier(),\n",
				"      \"Random Forest\" : RandomForestClassifier()}\n",
				"\n",
				"def fit_score(models, x_train, x_test, y_train, y_test):\n",
				"    np.random.seed(2)\n",
				"    model_score={}\n",
				"    for name, model in models.items():\n",
				"        model.fit(x_train, y_train)\n",
				"        model_score[name]=model.score(x_test, y_test)\n",
				"    return model_score"
			]
		},
		{
			"attachments": {},
			"cell_type": "markdown",
			"id": "554821d3",
			"metadata": {},
			"source": [
				"The output of the **fit_score** function is a dictionary containing the accuracy score of each of the three machine learning models (Logistic Regression, KNN, and Random Forest) on the test data. The accuracy score represents the percentage of correct predictions made by the model on the test data."
			]
		},
		{
			"cell_type": "code",
			"execution_count": 33,
			"id": "97632e00",
			"metadata": {},
			"outputs": [
				{
					"name": "stderr",
					"output_type": "stream",
					"text": [
						"C:\\Users\\Lenovo\\Anaconda3\\lib\\site-packages\\sklearn\\linear_model\\_logistic.py:763: ConvergenceWarning: lbfgs failed to converge (status=1):\n",
						"STOP: TOTAL NO. of ITERATIONS REACHED LIMIT.\n",
						"\n",
						"Increase the number of iterations (max_iter) or scale the data as shown in:\n",
						"    https://scikit-learn.org/stable/modules/preprocessing.html\n",
						"Please also refer to the documentation for alternative solver options:\n",
						"    https://scikit-learn.org/stable/modules/linear_model.html#logistic-regression\n",
						"  n_iter_i = _check_optimize_result(\n"
					]
				},
				{
					"data": {
						"text/plain": [
							"{'Logistic Regression': 0.9016393442622951,\n",
							" 'KNN': 0.7049180327868853,\n",
							" 'Random Forest': 0.9016393442622951}"
						]
					},
					"execution_count": 33,
					"metadata": {},
					"output_type": "execute_result"
				}
			],
			"source": [
				"scores = fit_score(models, x_train, x_test, y_train, y_test)\n",
				"scores"
			]
		},
		{
			"attachments": {},
			"cell_type": "markdown",
			"id": "e80d2ef4",
			"metadata": {},
			"source": [
				"The code below creates a bar plot comparing the accuracy of the three machine learning models. The accuracy is represented on the y-axis, and the three models are compared on the x-axis. The code generates a bar plot of the accuracy of each of the three models, and it allows us to compare the accuracy of each model at a glance."
			]
		},
		{
			"cell_type": "code",
			"execution_count": 44,
			"id": "dfcf94d3",
			"metadata": {},
			"outputs": [
				{
					"data": {
						"image/png": "[encoded data removed]",
						"text/plain": [
							"<Figure size 432x288 with 1 Axes>"
						]
					},
					"metadata": {
						"needs_background": "light"
					},
					"output_type": "display_data"
				}
			],
			"source": [
				"model_comperision = pd.DataFrame(scores, index=[\"accuracy\"])\n",
				"model_comperision.T.plot(kind=\"bar\"); "
			]
		},
		{
			"cell_type": "markdown",
			"id": "a49f1a79",
			"metadata": {},
			"source": [
				"### Hyperparameter tuning"
			]
		},
		{
			"attachments": {},
			"cell_type": "markdown",
			"id": "b054710c",
			"metadata": {},
			"source": [
				"The code below trains a k-nearest neighbors (KNN) model with different values of k (number of neighbors) ranging from 1 to 20. It uses a for loop to fit the KNN model on the training data for each value of k, and it appends the accuracy score for the training data and test data for each iteration of the loop to two separate lists, **training_score** and **test_score**. These lists will contain the accuracy scores for each value of k, and they will be used later to visualize the relationship between the number of neighbors and the accuracy of the model."
			]
		},
		{
			"cell_type": "code",
			"execution_count": 55,
			"id": "4a913562",
			"metadata": {},
			"outputs": [],
			"source": [
				"training_score=[]\n",
				"test_score=[]\n",
				"knn=KNeighborsClassifier()\n",
				"\n",
				"for i in range(1,21):\n",
				"    knn.set_params(n_neighbors=i)\n",
				"    knn.fit(x_train, y_train)\n",
				"    \n",
				"    training_score.append(knn.score(x_train, y_train))\n",
				"    test_score.append(knn.score(x_test, y_test))"
			]
		},
		{
			"cell_type": "code",
			"execution_count": 58,
			"id": "764a24b7",
			"metadata": {},
			"outputs": [
				{
					"data": {
						"text/plain": [
							"[1.0,\n",
							" 0.7892561983471075,\n",
							" 0.7396694214876033,\n",
							" 0.7355371900826446,\n",
							" 0.7396694214876033,\n",
							" 0.7396694214876033,\n",
							" 0.7231404958677686,\n",
							" 0.7107438016528925,\n",
							" 0.7066115702479339,\n",
							" 0.6900826446280992,\n",
							" 0.7107438016528925,\n",
							" 0.6983471074380165,\n",
							" 0.7066115702479339,\n",
							" 0.7024793388429752,\n",
							" 0.6859504132231405,\n",
							" 0.6735537190082644,\n",
							" 0.6900826446280992,\n",
							" 0.6735537190082644,\n",
							" 0.6818181818181818,\n",
							" 0.6735537190082644]"
						]
					},
					"execution_count": 58,
					"metadata": {},
					"output_type": "execute_result"
				}
			],
			"source": [
				"training_score"
			]
		},
		{
			"cell_type": "code",
			"execution_count": 59,
			"id": "999793de",
			"metadata": {},
			"outputs": [
				{
					"data": {
						"text/plain": [
							"[0.6065573770491803,\n",
							" 0.639344262295082,\n",
							" 0.7213114754098361,\n",
							" 0.7213114754098361,\n",
							" 0.7049180327868853,\n",
							" 0.7049180327868853,\n",
							" 0.7377049180327869,\n",
							" 0.7377049180327869,\n",
							" 0.6885245901639344,\n",
							" 0.7213114754098361,\n",
							" 0.6557377049180327,\n",
							" 0.6557377049180327,\n",
							" 0.6557377049180327,\n",
							" 0.6885245901639344,\n",
							" 0.7049180327868853,\n",
							" 0.6885245901639344,\n",
							" 0.7213114754098361,\n",
							" 0.7540983606557377,\n",
							" 0.7540983606557377,\n",
							" 0.7704918032786885]"
						]
					},
					"execution_count": 59,
					"metadata": {},
					"output_type": "execute_result"
				}
			],
			"source": [
				"test_score"
			]
		},
		{
			"attachments": {},
			"cell_type": "markdown",
			"id": "c497a7b2",
			"metadata": {},
			"source": [
				"The code plots the accuracy scores of a KNN model with varying number of neighbors on the training and testing datasets. The highest accuracy score on the test data occurs when the number of neighbors is equal to 12."
			]
		},
		{
			"cell_type": "code",
			"execution_count": 66,
			"id": "cdbaca87",
			"metadata": {},
			"outputs": [
				{
					"name": "stdout",
					"output_type": "stream",
					"text": [
						"0.7704918032786885\n"
					]
				},
				{
					"data": {
						"image/png": "[encoded data removed]",
						"text/plain": [
							"<Figure size 432x288 with 1 Axes>"
						]
					},
					"metadata": {
						"needs_background": "light"
					},
					"output_type": "display_data"
				}
			],
			"source": [
				"plt.plot(training_score)\n",
				"plt.plot(test_score)\n",
				"plt.xlabel(\"number of neighbors\")\n",
				"plt.ylabel(\"accuracy\")\n",
				"\n",
				"print(max(test_score))"
			]
		},
		{
			"cell_type": "markdown",
			"id": "cdab084b",
			"metadata": {},
			"source": [
				"### Hyperparameter tuning by RandomizedSearchCV"
			]
		},
		{
			"attachments": {},
			"cell_type": "markdown",
			"id": "a0682e09",
			"metadata": {},
			"source": [
				"The **log_reg_grid** dictionary is a hyperparameter grid for a Logistic Regression model. It contains two hyperparameters: C and solver.\n",
				"C is the inverse of regularization strength and takes values in the log space between -4 and 4 with 20 equally spaced values. The solver hyperparameter is set to liblinear.\n",
				"\n",
				"The **rf_grid** dictionary is a hyperparameter grid for a Random Forest Classifier model. It contains four hyperparameters: \n",
				"\n",
				"**n_estimators**, max_depth, **min_samples_split**, and **min_samples_leaf**.\n",
				"\n",
				"**n_estimators** is the number of trees in the forest and takes values in the range from 10 to 1000 with an increment of 50.\n",
				"max_depth represents the maximum depth of the tree and can take values of None, 3, 5, or 10.\n",
				"\n",
				"**min_samples_split** is the minimum number of samples required to split an internal node and takes values in the range from 2 to 20 with an increment of 2.\n",
				"\n",
				"**min_samples_leaf** is the minimum number of samples required to be at a leaf node and takes values in the range from 1 to 20 with an increment of 2."
			]
		},
		{
			"cell_type": "code",
			"execution_count": 45,
			"id": "e61d63c2",
			"metadata": {},
			"outputs": [],
			"source": [
				"# Logistic Regression\n",
				"log_reg_grid={\"C\" : np.logspace(-4,4,20),  \n",
				"             \"solver\" : [\"liblinear\"]}\n",
				"\n",
				"# RandomForestClassifier\n",
				"rf_grid={\"n_estimators\" : np.arange(10,1000,50),\n",
				"        \"max_depth\":(None, 3,5,10),\n",
				"       \"min_samples_split\":np.arange(2,20,2),\n",
				"        \"min_samples_leaf\":np.arange(1,20,2)}"
			]
		},
		{
			"attachments": {},
			"cell_type": "markdown",
			"id": "3820a991",
			"metadata": {},
			"source": [
				"This code is creating a RandomizedSearchCV object for logistic regression and fitting it to the training data (x_train, y_train). The object uses a set of hyperparameters specified in the log_reg_grid dictionary. The hyperparameters will be sampled randomly 20 times during the cross-validation and the best hyperparameters will be selected based on the cross-validation results. The \"verbose\" argument is set to True, which means that the search process will be verbose, meaning it will display detailed messages about the search process and results."
			]
		},
		{
			"cell_type": "code",
			"execution_count": 29,
			"id": "3282d0c7",
			"metadata": {},
			"outputs": [
				{
					"name": "stdout",
					"output_type": "stream",
					"text": [
						"Fitting 5 folds for each of 20 candidates, totalling 100 fits\n"
					]
				},
				{
					"data": {
						"text/plain": [
							"RandomizedSearchCV(cv=5, estimator=LogisticRegression(), n_iter=20,\n",
							"                   param_distributions={'C': array([1.00000000e-04, 2.63665090e-04, 6.95192796e-04, 1.83298071e-03,\n",
							"       4.83293024e-03, 1.27427499e-02, 3.35981829e-02, 8.85866790e-02,\n",
							"       2.33572147e-01, 6.15848211e-01, 1.62377674e+00, 4.28133240e+00,\n",
							"       1.12883789e+01, 2.97635144e+01, 7.84759970e+01, 2.06913808e+02,\n",
							"       5.45559478e+02, 1.43844989e+03, 3.79269019e+03, 1.00000000e+04]),\n",
							"                                        'solver': ['liblinear']},\n",
							"                   verbose=True)"
						]
					},
					"execution_count": 29,
					"metadata": {},
					"output_type": "execute_result"
				}
			],
			"source": [
				"# testing Logistic Regression\n",
				"\n",
				"np.random.seed(2)\n",
				"rs_log_reg=RandomizedSearchCV(LogisticRegression(),\n",
				"                             param_distributions=log_reg_grid,\n",
				"                             cv=5,\n",
				"                             n_iter=20, # 20 different combinations\n",
				"                             verbose=True)\n",
				"\n",
				"rs_log_reg.fit(x_train, y_train)"
			]
		},
		{
			"attachments": {},
			"cell_type": "markdown",
			"id": "c91fe12d",
			"metadata": {},
			"source": [
				"The **code rs_log_reg.best_params_** returns the best hyperparameters found by the randomized search. In the previous code cell, we initialized the randomized search with the **RandomizedSearchCV** class and passed in our logistic regression model, the grid of hyperparameters (**log_reg_grid**), and the number of folds for cross-validation (cv) and number of iterations (**n_iter**) to try. By calling rs_log_reg.fit(x_train, y_train), we fit the randomized search on the training data and search for the best hyperparameters that optimize the model's performance.\n",
				"\n",
				"The **rs_log_reg.best_params_ **returns the set of hyperparameters that resulted in the highest accuracy during the search. These hyperparameters can then be used to train a final model and make predictions on unseen data."
			]
		},
		{
			"cell_type": "code",
			"execution_count": 30,
			"id": "c7a5d8ed",
			"metadata": {},
			"outputs": [
				{
					"data": {
						"text/plain": [
							"{'solver': 'liblinear', 'C': 0.23357214690901212}"
						]
					},
					"execution_count": 30,
					"metadata": {},
					"output_type": "execute_result"
				}
			],
			"source": [
				"rs_log_reg.best_params_"
			]
		},
		{
			"cell_type": "code",
			"execution_count": 31,
			"id": "e2489c1f",
			"metadata": {},
			"outputs": [
				{
					"data": {
						"text/plain": [
							"0.9180327868852459"
						]
					},
					"execution_count": 31,
					"metadata": {},
					"output_type": "execute_result"
				}
			],
			"source": [
				"rs_log_reg.score(x_test, y_test)"
			]
		},
		{
			"attachments": {},
			"cell_type": "markdown",
			"id": "e8d4ea54",
			"metadata": {},
			"source": [
				"This code creates a **RandomizedSearchCV** object for a RandomForestClassifier model. The **RandomizedSearchCV** performs a randomized search of the hyperparameters defined in the rf_grid dictionary. The **RandomizedSearchCV** uses 5-fold cross-validation and 20 iterations, and it outputs verbose output. The **np.random.seed(2)** line is setting the random seed to ensure the results of the randomized search are reproducible. Finally, the **rs_rf** object is fit to the training data **x_train** and **y_train**."
			]
		},
		{
			"cell_type": "code",
			"execution_count": 46,
			"id": "15b9e9ae",
			"metadata": {},
			"outputs": [
				{
					"name": "stdout",
					"output_type": "stream",
					"text": [
						"Fitting 5 folds for each of 20 candidates, totalling 100 fits\n"
					]
				},
				{
					"data": {
						"text/plain": [
							"RandomizedSearchCV(cv=5, estimator=RandomForestClassifier(), n_iter=20,\n",
							"                   param_distributions={'max_depth': (None, 3, 5, 10),\n",
							"                                        'min_samples_leaf': array([ 1,  3,  5,  7,  9, 11, 13, 15, 17, 19]),\n",
							"                                        'min_samples_split': array([ 2,  4,  6,  8, 10, 12, 14, 16, 18]),\n",
							"                                        'n_estimators': array([ 10,  60, 110, 160, 210, 260, 310, 360, 410, 460, 510, 560, 610,\n",
							"       660, 710, 760, 810, 860, 910, 960])},\n",
							"                   verbose=True)"
						]
					},
					"execution_count": 46,
					"metadata": {},
					"output_type": "execute_result"
				}
			],
			"source": [
				"np.random.seed(2)\n",
				"\n",
				"rs_rf=RandomizedSearchCV(RandomForestClassifier(), \n",
				"                       param_distributions=rf_grid, \n",
				"                       cv=5, \n",
				"                       n_iter=20, \n",
				"                       verbose=True)\n",
				"\n",
				"rs_rf.fit(x_train, y_train)"
			]
		},
		{
			"cell_type": "code",
			"execution_count": 47,
			"id": "e9037359",
			"metadata": {},
			"outputs": [
				{
					"data": {
						"text/plain": [
							"{'n_estimators': 660,\n",
							" 'min_samples_split': 8,\n",
							" 'min_samples_leaf': 5,\n",
							" 'max_depth': None}"
						]
					},
					"execution_count": 47,
					"metadata": {},
					"output_type": "execute_result"
				}
			],
			"source": [
				"rs_rf.best_params_"
			]
		},
		{
			"cell_type": "code",
			"execution_count": 48,
			"id": "743a0e9d",
			"metadata": {},
			"outputs": [
				{
					"data": {
						"text/plain": [
							"0.8852459016393442"
						]
					},
					"execution_count": 48,
					"metadata": {},
					"output_type": "execute_result"
				}
			],
			"source": [
				"rs_rf.score(x_test, y_test)"
			]
		},
		{
			"cell_type": "markdown",
			"id": "34a9dafd",
			"metadata": {},
			"source": [
				"### Hyperparameter tuning by GridSearchCV"
			]
		},
		{
			"attachments": {},
			"cell_type": "markdown",
			"id": "4196bf11",
			"metadata": {},
			"source": [
				"This code is performing a Grid Search Cross Validation (CV) on a logistic regression model. The purpose of Grid Search CV is to tune the hyperparameters of a model in order to obtain the best performance on a given dataset.\n",
				"\n",
				"In this code, the hyperparameters of the logistic regression model are being tuned through the use of a dictionary called \"log_reg_grid\". The \"C\" parameter is the inverse of regularization strength in the logistic regression model, and it is being searched in a logarithmic range between 10^-4 to 10^4 with 30 different values. The \"solver\" parameter is set to \"liblinear\" and it specifies the algorithm to be used for optimization.\n",
				"\n",
				"The GridSearchCV object is created by passing the logistic regression model, the hyperparameters dictionary, the number of folds for cross-validation (5), and setting verbose to True (which will give information about the progress of the grid search). Finally, the fit method is called on the GridSearchCV object with the training data to perform the grid search and tune the hyperparameters."
			]
		},
		{
			"cell_type": "code",
			"execution_count": 9,
			"id": "37ff0359",
			"metadata": {},
			"outputs": [
				{
					"name": "stdout",
					"output_type": "stream",
					"text": [
						"Fitting 5 folds for each of 30 candidates, totalling 150 fits\n"
					]
				},
				{
					"data": {
						"text/plain": [
							"GridSearchCV(cv=5, estimator=LogisticRegression(),\n",
							"             param_grid={'C': array([1.00000000e-04, 1.88739182e-04, 3.56224789e-04, 6.72335754e-04,\n",
							"       1.26896100e-03, 2.39502662e-03, 4.52035366e-03, 8.53167852e-03,\n",
							"       1.61026203e-02, 3.03919538e-02, 5.73615251e-02, 1.08263673e-01,\n",
							"       2.04335972e-01, 3.85662042e-01, 7.27895384e-01, 1.37382380e+00,\n",
							"       2.59294380e+00, 4.89390092e+00, 9.23670857e+00, 1.74332882e+01,\n",
							"       3.29034456e+01, 6.21016942e+01, 1.17210230e+02, 2.21221629e+02,\n",
							"       4.17531894e+02, 7.88046282e+02, 1.48735211e+03, 2.80721620e+03,\n",
							"       5.29831691e+03, 1.00000000e+04]),\n",
							"                         'solver': ['liblinear']},\n",
							"             verbose=True)"
						]
					},
					"execution_count": 9,
					"metadata": {},
					"output_type": "execute_result"
				}
			],
			"source": [
				"log_reg_grid={\"C\":np.logspace(-4,4,30),\n",
				"             \"solver\": [\"liblinear\"]}\n",
				"\n",
				"gs_log_reg=GridSearchCV(LogisticRegression(),\n",
				"                       param_grid=log_reg_grid,\n",
				"                       cv=5,\n",
				"                       verbose=True)\n",
				"\n",
				"gs_log_reg.fit(x_train, y_train)"
			]
		},
		{
			"cell_type": "code",
			"execution_count": 10,
			"id": "1cccfbe1",
			"metadata": {
				"scrolled": true
			},
			"outputs": [
				{
					"data": {
						"text/plain": [
							"{'C': 0.1082636733874054, 'solver': 'liblinear'}"
						]
					},
					"execution_count": 10,
					"metadata": {},
					"output_type": "execute_result"
				}
			],
			"source": [
				"gs_log_reg.best_params_"
			]
		},
		{
			"cell_type": "code",
			"execution_count": 11,
			"id": "9d7afb9c",
			"metadata": {},
			"outputs": [
				{
					"data": {
						"text/plain": [
							"0.9180327868852459"
						]
					},
					"execution_count": 11,
					"metadata": {},
					"output_type": "execute_result"
				}
			],
			"source": [
				"gs_log_reg.score(x_test, y_test)"
			]
		},
		{
			"cell_type": "code",
			"execution_count": 13,
			"id": "0d4bef8f",
			"metadata": {},
			"outputs": [],
			"source": [
				"y_preds=gs_log_reg.predict(x_test)"
			]
		},
		{
			"cell_type": "code",
			"execution_count": 14,
			"id": "10ca2472",
			"metadata": {},
			"outputs": [
				{
					"data": {
						"text/plain": [
							"array([1, 1, 1, 1, 0, 0, 1, 1, 0, 1, 0, 1, 0, 0, 1, 1, 0, 1, 0, 0, 1, 1,\n",
							"       0, 0, 1, 1, 1, 0, 0, 1, 1, 1, 0, 0, 1, 0, 1, 0, 0, 0, 1, 1, 0, 0,\n",
							"       1, 1, 0, 1, 1, 1, 1, 1, 1, 0, 0, 0, 0, 1, 1, 0, 1], dtype=int64)"
						]
					},
					"execution_count": 14,
					"metadata": {},
					"output_type": "execute_result"
				}
			],
			"source": [
				"y_preds"
			]
		},
		{
			"cell_type": "code",
			"execution_count": 16,
			"id": "b83cad6b",
			"metadata": {},
			"outputs": [
				{
					"data": {
						"text/plain": [
							"array([1, 0, 1, 1, 0, 0, 1, 1, 0, 1, 0, 1, 0, 0, 1, 1, 0, 1, 0, 0, 1, 1,\n",
							"       0, 0, 0, 1, 1, 0, 0, 1, 1, 1, 0, 0, 0, 0, 1, 0, 0, 0, 1, 0, 0, 0,\n",
							"       1, 0, 0, 1, 1, 1, 1, 1, 1, 0, 0, 0, 0, 1, 1, 0, 1], dtype=int64)"
						]
					},
					"execution_count": 16,
					"metadata": {},
					"output_type": "execute_result"
				}
			],
			"source": [
				"np.array(y_test)"
			]
		},
		{
			"attachments": {},
			"cell_type": "markdown",
			"id": "e45469b5",
			"metadata": {},
			"source": [
				"This code is plotting the Receiver Operating Characteristic (ROC) curve of the logistic regression model that was optimized with GridSearchCV. The ROC curve is a graph of the true positive rate (sensitivity) against the false positive rate (1 minus specificity) for different classification thresholds. The area under the ROC curve is used as a measure of the quality of the classifier. In this case, the function \"plot_roc_curve\" is used to plot the ROC curve for the given logistic regression model using the x_test and y_test data."
			]
		},
		{
			"cell_type": "code",
			"execution_count": 18,
			"id": "e066ce47",
			"metadata": {},
			"outputs": [
				{
					"data": {
						"image/png": "[encoded data removed]",
						"text/plain": [
							"<Figure size 432x288 with 1 Axes>"
						]
					},
					"metadata": {
						"needs_background": "light"
					},
					"output_type": "display_data"
				}
			],
			"source": [
				"plot_roc_curve(gs_log_reg, x_test, y_test);"
			]
		},
		{
			"cell_type": "code",
			"execution_count": 22,
			"id": "e1ca400b",
			"metadata": {},
			"outputs": [
				{
					"name": "stdout",
					"output_type": "stream",
					"text": [
						"[[27  5]\n",
						" [ 0 29]]\n"
					]
				}
			],
			"source": [
				"print(confusion_matrix(y_test, y_preds))"
			]
		},
		{
			"attachments": {},
			"cell_type": "markdown",
			"id": "fd9df54b",
			"metadata": {},
			"source": [
				"The function **plot_conf_map** takes two arguments, **y_test** and **y_preds**, which are the true labels of the test set and the predicted labels from a model, respectively. It creates a plot of a confusion matrix using the **confusion_matrix** function from scikit-learn and the **heatmap** function from the seaborn library. The confusion matrix displays the number of true positives, true negatives, false positives, and false negatives for the model's predictions. The **annot** argument is set to True to show the values in each cell of the matrix. The x-axis and y-axis labels are set to \"True label\" and \"Predict label\", respectively."
			]
		},
		{
			"cell_type": "code",
			"execution_count": 33,
			"id": "2ec4f411",
			"metadata": {},
			"outputs": [
				{
					"data": {
						"image/png": "[encoded data removed]",
						"text/plain": [
							"<Figure size 432x288 with 2 Axes>"
						]
					},
					"metadata": {
						"needs_background": "light"
					},
					"output_type": "display_data"
				}
			],
			"source": [
				"def plot_conf_map(y_test, y_preds):\n",
				"    fig, axs=plt.subplots()\n",
				"    axs=sns.heatmap(confusion_matrix(y_test, y_preds), annot=True)\n",
				"    plt.xlabel(\"True label\")\n",
				"    plt.ylabel(\"predict label\")\n",
				"    \n",
				"plot_conf_map(y_test, y_preds)"
			]
		},
		{
			"attachments": {},
			"cell_type": "markdown",
			"id": "59d6f21b",
			"metadata": {},
			"source": [
				"This code block is printing the classification report for the test data set with the predicted values from the machine learning model. The classification report includes the following metrics:\n",
				"\n",
				"- **Precision**: It is the ratio of true positive predictions to the sum of true positive and false positive predictions. It is a measure of the accuracy of the positive predictions.\n",
				"\n",
				"- **Recall**: It is the ratio of true positive predictions to the sum of true positive and false negative predictions. It measures the ability of the model to find all the positive instances.\n",
				"\n",
				"- **F1-score**: It is the harmonic mean of precision and recall, and it is a measure of the balance between precision and recall.\n",
				"\n",
				"- **Support**: It is the number of samples of the corresponding class.\n",
				"\n",
				"These metrics are calculated for each class in the target variable and are presented in a table format, making it easier to compare the performance of the model for each class."
			]
		},
		{
			"cell_type": "code",
			"execution_count": 34,
			"id": "79552045",
			"metadata": {},
			"outputs": [
				{
					"name": "stdout",
					"output_type": "stream",
					"text": [
						"              precision    recall  f1-score   support\n",
						"\n",
						"           0       1.00      0.84      0.92        32\n",
						"           1       0.85      1.00      0.92        29\n",
						"\n",
						"    accuracy                           0.92        61\n",
						"   macro avg       0.93      0.92      0.92        61\n",
						"weighted avg       0.93      0.92      0.92        61\n",
						"\n"
					]
				}
			],
			"source": [
				"print(classification_report(y_test, y_preds))"
			]
		},
		{
			"cell_type": "code",
			"execution_count": 36,
			"id": "163d4bd8",
			"metadata": {},
			"outputs": [
				{
					"data": {
						"text/plain": [
							"{'C': 0.1082636733874054, 'solver': 'liblinear'}"
						]
					},
					"execution_count": 36,
					"metadata": {},
					"output_type": "execute_result"
				}
			],
			"source": [
				"gs_log_reg.best_params_"
			]
		},
		{
			"attachments": {},
			"cell_type": "markdown",
			"id": "cb278421",
			"metadata": {},
			"source": [
				"This line of code is creating an instance of the Logistic Regression classifier.\n",
				"\n",
				"**clf** is a variable that is being assigned the Logistic Regression model.\n",
				"\n",
				"The **LogisticRegression** class has several arguments, two of which are being passed to this instance of the model:\n",
				"\n",
				"- **C**: This is the inverse of regularization strength; a smaller value specifies stronger regularization. In this case, the value of C is set to 0.1082636733874054.\n",
				"\n",
				"- **solver**: This is the algorithm to use in the optimization problem. In this case, the value of solver is set to 'liblinear', which means the Logistic Regression model will use the LIBLINEAR library for optimization.\n",
				"\n",
				"Note that the specific values being passed to C and solver in this code may not be optimal for our problem, and it's important to carefully choose these hyperparameters based on the problem and data we are working with."
			]
		},
		{
			"cell_type": "code",
			"execution_count": 38,
			"id": "02f18499",
			"metadata": {},
			"outputs": [
				{
					"data": {
						"text/plain": [
							"LogisticRegression(C=0.1082636733874054, solver='liblinear')"
						]
					},
					"execution_count": 38,
					"metadata": {},
					"output_type": "execute_result"
				}
			],
			"source": [
				"clf=LogisticRegression(C=0.1082636733874054, solver='liblinear')\n",
				"clf"
			]
		},
		{
			"attachments": {},
			"cell_type": "markdown",
			"id": "e858a3e2",
			"metadata": {},
			"source": [
				"This code is using the **cross_val_score** function from the **sklearn.model_selection** module to evaluate the performance of the Logistic Regression classifier **clf**.\n",
				"\n",
				"The **cross_val_score** function performs k-fold cross-validation, where k is the value of the cv argument (in this case, 5). In k-fold cross-validation, the original sample is randomly partitioned into k equal sized subsamples. Of the k subsamples, a single subsample is used as the validation data for testing the model, and the remaining k-1 subsamples are used as training data. This process is repeated k times, with each of the k subsamples used exactly once as the validation data. The **cross_val_score** function returns an array of k validation scores.\n",
				"\n",
				"The arguments passed to the **cross_val_score** function are as follows:\n",
				"\n",
				"clf: This is the Logistic Regression classifier that we created earlier.\n",
				"\n",
				"x: This is the input feature data for the model.\n",
				"\n",
				"y: This is the target variable.\n",
				"\n",
				"cv: This specifies the number of folds to use in k-fold cross-validation (in this case, 5).\n",
				"\n",
				"scoring: This argument specifies the scoring metric to use. In this case, the scoring metric is set to \"accuracy\", which means the accuracy score will be used to evaluate the model's performance.\n",
				"\n",
				"The last line cv_acc is just printing the result of the **cross_val_score** function."
			]
		},
		{
			"cell_type": "code",
			"execution_count": 40,
			"id": "8f65ad90",
			"metadata": {},
			"outputs": [
				{
					"data": {
						"text/plain": [
							"array([0.81967213, 0.90163934, 0.83606557, 0.86666667, 0.75      ])"
						]
					},
					"execution_count": 40,
					"metadata": {},
					"output_type": "execute_result"
				}
			],
			"source": [
				"cv_acc=cross_val_score(clf,x, y, cv=5, scoring=\"accuracy\")\n",
				"cv_acc"
			]
		},
		{
			"attachments": {},
			"cell_type": "markdown",
			"id": "3ab7f69f",
			"metadata": {},
			"source": [
				"The line **cv_acc=np.mean(cv_acc)** takes the mean of the array of cross-validation scores (**cv_acc**) obtained from the previous code using the np.mean function from the NumPy library.\n",
				"\n",
				"The np.mean function calculates the average of an array-like object and returns a single value that represents the mean.\n",
				"\n",
				"After this line is executed, the **cv_acc** variable will now contain a single scalar value which is the mean of the cross-validation accuracy scores, instead of an array of scores. This mean value can be used as a single metric to evaluate the performance of the Logistic Regression classifier on the given data."
			]
		},
		{
			"cell_type": "code",
			"execution_count": 42,
			"id": "022a6a65",
			"metadata": {},
			"outputs": [
				{
					"data": {
						"text/plain": [
							"0.834808743169399"
						]
					},
					"execution_count": 42,
					"metadata": {},
					"output_type": "execute_result"
				}
			],
			"source": [
				"cv_acc=np.mean(cv_acc)\n",
				"cv_acc"
			]
		},
		{
			"attachments": {},
			"cell_type": "markdown",
			"id": "2a34d2ff",
			"metadata": {},
			"source": [
				"The below code perform similar operations as the previous code, but this time we are computing the mean of the cross-validation precision scores.\n",
				"\n",
				"The first line **cv_pre=cross_val_score(clf,x, y, cv=5, scoring=\"precision\")** uses the cross_val_score function with the same arguments as before, except that this time the scoring metric is set to \"precision\". This means that the precision score will be used to evaluate the performance of the Logistic Regression classifier.\n",
				"\n",
				"The second line **cv_pre=np.mean(cv_pre)** calculates the mean of the cross-validation precision scores obtained from the first line, just like before. After this line is executed, the **cv_pre** variable will contain the mean precision score.\n",
				"\n",
				"So in summary, these two lines of code compute the mean precision score from 5-fold cross-validation of the Logistic Regression classifier."
			]
		},
		{
			"cell_type": "code",
			"execution_count": 44,
			"id": "91458bca",
			"metadata": {},
			"outputs": [
				{
					"data": {
						"text/plain": [
							"0.8182683982683983"
						]
					},
					"execution_count": 44,
					"metadata": {},
					"output_type": "execute_result"
				}
			],
			"source": [
				"cv_pre=cross_val_score(clf,x, y, cv=5, scoring=\"precision\")\n",
				"cv_pre=np.mean(cv_pre)\n",
				"cv_pre"
			]
		},
		{
			"attachments": {},
			"cell_type": "markdown",
			"id": "cb9c87a2",
			"metadata": {},
			"source": [
				"The below code perform similar operations as the previous code, but this time they are computing the mean of the cross-validation recall scores.\n",
				"\n",
				"- The first line **cv_rec=cross_val_score(clf,x, y, cv=5, scoring=\"recall\")** uses the **cross_val_score** function with the same arguments as before, except that this time the scoring metric is set to \"recall\". This means that the recall score will be used to evaluate the performance of the Logistic Regression classifier.\n",
				"\n",
				"- The second line **cv_rec=np.mean(cv_rec)** calculates the mean of the cross-validation recall scores obtained from the first line, just like before. After this line is executed, the cv_rec variable will contain the mean recall score."
			]
		},
		{
			"cell_type": "code",
			"execution_count": 46,
			"id": "b954741f",
			"metadata": {},
			"outputs": [
				{
					"data": {
						"text/plain": [
							"0.9030303030303031"
						]
					},
					"execution_count": 46,
					"metadata": {},
					"output_type": "execute_result"
				}
			],
			"source": [
				"cv_rec=cross_val_score(clf,x, y, cv=5, scoring=\"recall\")\n",
				"cv_rec=np.mean(cv_rec)\n",
				"cv_rec"
			]
		},
		{
			"attachments": {},
			"cell_type": "markdown",
			"id": "b1f2eb91",
			"metadata": {},
			"source": [
				"The below code perform similar operations as the previous code, but this time they are computing the mean of the cross-validation F1 scores.\n",
				"\n",
				"The first line **cv_f1=cross_val_score(clf,x, y, cv=5, scoring=\"f1\")** uses the **cross_val_score** function with the same arguments as before, except that this time the scoring metric is set to \"f1\". This means that the F1 score will be used to evaluate the performance of the Logistic Regression classifier.\n",
				"\n",
				"The second line **cv_f1=np.mean(cv_f1)** calculates the mean of the cross-validation F1 scores obtained from the first line, just like before. After this line is executed, the **cv_f1** variable will contain the mean F1 score."
			]
		},
		{
			"cell_type": "code",
			"execution_count": 48,
			"id": "571f3f3e",
			"metadata": {},
			"outputs": [
				{
					"data": {
						"text/plain": [
							"0.8572876223964057"
						]
					},
					"execution_count": 48,
					"metadata": {},
					"output_type": "execute_result"
				}
			],
			"source": [
				"cv_f1=cross_val_score(clf,x, y, cv=5, scoring=\"f1\")\n",
				"cv_f1=np.mean(cv_f1)\n",
				"cv_f1"
			]
		},
		{
			"cell_type": "markdown",
			"id": "1250c45d",
			"metadata": {},
			"source": [
				"**Visualization**"
			]
		},
		{
			"attachments": {},
			"cell_type": "markdown",
			"id": "4982bb6a",
			"metadata": {},
			"source": [
				"The code below creates a pandas dataframe that stores the mean accuracy, precision, recall, and F1 scores obtained from 5-fold cross-validation of the Logistic Regression classifier, and then plots the values in a bar graph.\n",
				"\n",
				"- The first line creates a dataframe **cv_metric** with columns \"Accuracy\", \"Precision\", \"Recall\", and \"F1\", and a single row with index 0. The values in each column are the mean cross-validation scores stored in the variables **cv_acc**, **cv_pre**, **cv_rec**, and **cv_f1**, respectively.\n",
				"\n",
				"- The second line creates a bar graph using the plot method of the dataframe **cv_metric**, transposed using .T. The kind argument is set to \"bar\" to indicate that a bar graph should be generated, and the legend argument is set to False to turn off the **legend**. The semicolon at the end suppresses the output of the plot, allowing only the plot to be displayed."
			]
		},
		{
			"cell_type": "code",
			"execution_count": 62,
			"id": "33469ec0",
			"metadata": {},
			"outputs": [
				{
					"data": {
						"image/png": "[encoded data removed]",
						"text/plain": [
							"<Figure size 432x288 with 1 Axes>"
						]
					},
					"metadata": {
						"needs_background": "light"
					},
					"output_type": "display_data"
				}
			],
			"source": [
				"cv_metric = pd.DataFrame({\"Accuracy\" : cv_acc,\n",
				"             \"Precision\" : cv_pre,\n",
				"             \"Recall\" : cv_rec,\n",
				"             \"F1\" : cv_f1},\n",
				"            index=[0])\n",
				"\n",
				"cv_metric.T.plot(kind=\"bar\", legend=False);"
			]
		},
		{
			"cell_type": "markdown",
			"id": "16e28151",
			"metadata": {},
			"source": [
				"**Features Importance**"
			]
		},
		{
			"attachments": {},
			"cell_type": "markdown",
			"id": "e28b0468",
			"metadata": {},
			"source": [
				"The code below trains a Logistic Regression classifier on the training data and then retrieves the coefficients of the trained model.\n",
				"\n",
				"- The first line **clf=LogisticRegression(C=0.1082636733874054, solver='liblinear')** creates a Logistic Regression classifier object with the hyperparameter C set to 0.1082636733874054 and the solver set to \"liblinear\".\n",
				"\n",
				"- The second line **clf.fit(x_train, y_train)** trains the Logistic Regression classifier on the training data **x_train** and corresponding labels **y_train**.\n",
				"\n",
				"- The third line **clf.coef_** retrieves the coefficients of the trained Logistic Regression model. The coef_ attribute of the classifier object stores the coefficients of the features in the model."
			]
		},
		{
			"cell_type": "code",
			"execution_count": 63,
			"id": "b0590172",
			"metadata": {},
			"outputs": [
				{
					"data": {
						"text/plain": [
							"array([[ 0.00647008, -0.68304127,  0.6184325 , -0.01307299, -0.00299729,\n",
							"        -0.01771121,  0.24452429,  0.0243036 , -0.38642002, -0.39287514,\n",
							"         0.32969957, -0.51228764, -0.48958063]])"
						]
					},
					"execution_count": 63,
					"metadata": {},
					"output_type": "execute_result"
				}
			],
			"source": [
				"clf=LogisticRegression(C=0.1082636733874054, solver='liblinear')\n",
				"clf.fit(x_train, y_train)\n",
				"\n",
				"clf.coef_"
			]
		},
		{
			"attachments": {},
			"cell_type": "markdown",
			"id": "0c3273f7",
			"metadata": {},
			"source": [
				"he code The below code creates a dictionary that maps the feature names in the data df to their corresponding coefficients in the Logistic Regression model.\n",
				"\n",
				"- The **zip** function is used to combine the column names of the dataframe df and the coefficients of the trained Logistic Regression model, which are stored in **clf.coef_[0]**. The **zip** function takes two or more iterables as input and returns an iterator of tuples, where the i-th tuple contains the i-th element from each iterable.\n",
				"\n",
				"- The dict function is used to create a dictionary from the list of tuples returned by **zip**. The resulting dictionary feature_dict maps the feature names in df to their corresponding coefficients in the Logistic Regression model."
			]
		},
		{
			"cell_type": "code",
			"execution_count": 64,
			"id": "ce54fa71",
			"metadata": {},
			"outputs": [
				{
					"data": {
						"text/plain": [
							"{'age': 0.006470082865358063,\n",
							" 'sex': -0.6830412718637527,\n",
							" 'cp': 0.6184325005884739,\n",
							" 'trestbps': -0.01307298669282449,\n",
							" 'chol': -0.0029972895509600053,\n",
							" 'fbs': -0.01771120825427197,\n",
							" 'restecg': 0.24452428704317164,\n",
							" 'thalach': 0.024303596828602662,\n",
							" 'exang': -0.38642001993211905,\n",
							" 'oldpeak': -0.39287514194720935,\n",
							" 'slope': 0.3296995660327986,\n",
							" 'ca': -0.5122876362201381,\n",
							" 'thal': -0.4895806289809405}"
						]
					},
					"execution_count": 64,
					"metadata": {},
					"output_type": "execute_result"
				}
			],
			"source": [
				"feature_dict=dict(zip(df.columns, list(clf.coef_[0])))\n",
				"feature_dict"
			]
		},
		{
			"attachments": {},
			"cell_type": "markdown",
			"id": "a6be4197",
			"metadata": {},
			"source": [
				"The code below creates a bar plot to visualize the coefficients of the Logistic Regression model for each feature.\n",
				"\n",
				"The first line **feature_df = pd.DataFrame(feature_dict, index=[0])** creates a pandas dataframe feature_df from the dictionary **feature_dict**. The dataframe has a single row with the feature names as columns and their corresponding coefficients as values.\n",
				"\n",
				"The second line **feature_df.T.plot(kind=\"bar\", legend=False)** creates a bar plot of the transposed dataframe feature_df.T. The T method returns the transposed version of the dataframe, with rows and columns switched. The bar plot shows the coefficients of the Logistic Regression model for each feature. The kind argument is set to \"bar\" to specify the type of plot to be created and **legend** is set to **False** to disable the display of the legend."
			]
		},
		{
			"cell_type": "code",
			"execution_count": 68,
			"id": "fd0fb5c6",
			"metadata": {},
			"outputs": [
				{
					"data": {
						"image/png": "[encoded data removed]",
						"text/plain": [
							"<Figure size 432x288 with 1 Axes>"
						]
					},
					"metadata": {
						"needs_background": "light"
					},
					"output_type": "display_data"
				}
			],
			"source": [
				"feature_df = pd.DataFrame(feature_dict, index=[0])\n",
				"feature_df.T.plot(kind=\"bar\", legend=False);"
			]
		},
		{
			"attachments": {},
			"cell_type": "markdown",
			"id": "12a9c105",
			"metadata": {},
			"source": [
				"The code below calculates a cross-tabulation (also known as a contingency table or pivot table) between the columns \"sex\" and \"target\" in the dataframe **df**."
			]
		},
		{
			"cell_type": "code",
			"execution_count": 71,
			"id": "d6faaf44",
			"metadata": {},
			"outputs": [
				{
					"data": {
						"text/html": [
							"<div>\n",
							"<style scoped>\n",
							"    .dataframe tbody tr th:only-of-type {\n",
							"        vertical-align: middle;\n",
							"    }\n",
							"\n",
							"    .dataframe tbody tr th {\n",
							"        vertical-align: top;\n",
							"    }\n",
							"\n",
							"    .dataframe thead th {\n",
							"        text-align: right;\n",
							"    }\n",
							"</style>\n",
							"<table border=\"1\" class=\"dataframe\">\n",
							"  <thead>\n",
							"    <tr style=\"text-align: right;\">\n",
							"      <th>target</th>\n",
							"      <th>0</th>\n",
							"      <th>1</th>\n",
							"    </tr>\n",
							"    <tr>\n",
							"      <th>sex</th>\n",
							"      <th></th>\n",
							"      <th></th>\n",
							"    </tr>\n",
							"  </thead>\n",
							"  <tbody>\n",
							"    <tr>\n",
							"      <th>0</th>\n",
							"      <td>24</td>\n",
							"      <td>72</td>\n",
							"    </tr>\n",
							"    <tr>\n",
							"      <th>1</th>\n",
							"      <td>114</td>\n",
							"      <td>93</td>\n",
							"    </tr>\n",
							"  </tbody>\n",
							"</table>\n",
							"</div>"
						],
						"text/plain": [
							"target    0   1\n",
							"sex            \n",
							"0        24  72\n",
							"1       114  93"
						]
					},
					"execution_count": 71,
					"metadata": {},
					"output_type": "execute_result"
				}
			],
			"source": [
				"pd.crosstab(df[\"sex\"], df[\"target\"])"
			]
		}
	],
	"metadata": {
		"kernelspec": {
			"display_name": "Python 3",
			"language": "python",
			"name": "python3"
		},
		"language_info": {
			"codemirror_mode": {
				"name": "ipython",
				"version": 3
			},
			"file_extension": ".py",
			"mimetype": "text/x-python",
			"name": "python",
			"nbconvert_exporter": "python",
			"pygments_lexer": "ipython3",
			"version": "3.8.8"
		}
	},
	"nbformat": 4,
	"nbformat_minor": 5
}
